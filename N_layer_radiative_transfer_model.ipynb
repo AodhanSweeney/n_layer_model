{
 "cells": [
  {
   "cell_type": "code",
   "execution_count": 8,
   "id": "conscious-atlantic",
   "metadata": {},
   "outputs": [
    {
     "data": {
      "text/plain": [
       "Text(0, 0.5, 'Layer number (n)')"
      ]
     },
     "execution_count": 8,
     "metadata": {},
     "output_type": "execute_result"
    },
    {
     "data": {
      "image/png": "[encoded data removed]",
      "text/plain": [
       "<Figure size 432x288 with 1 Axes>"
      ]
     },
     "metadata": {
      "needs_background": "light"
     },
     "output_type": "display_data"
    }
   ],
   "source": [
    "\"\"\"THIS NEEDS A GUI\"\"\"\n",
    "\n",
    "\n",
    "\n",
    "import numpy as np\n",
    "import matplotlib.pyplot as plt\n",
    "# Import radiative transfer utils box\n",
    "import utils\n",
    "\n",
    "\n",
    "# How many layers of our N-layer atmosphere? \n",
    "N = 60\n",
    "# Surface albedo\n",
    "alpha = 0.3\n",
    "\n",
    "# Solar Constant\n",
    "S0 = 1368 #W/m^2\n",
    "total_vertical_heat_flux = 110 # W/m^2\n",
    "\n",
    "# Create some random emissivities to use\n",
    "emmisivities = np.arange(0, N+1, 1)/(N+1)\n",
    "emmisivities[0] = 1\n",
    "\n",
    "# Now get our emissivity Matrix\n",
    "R_up_matrix = utils.R_up_matrix(N, emmisivities)\n",
    "total_emissivity_matrix = utils.emissivity_matrix(R_up_matrix, emmisivities)\n",
    "#print('Emissivity Matrix:')\n",
    "#print(total_emissivity_matrix)\n",
    "\n",
    "# We also need our forcings vector\n",
    "insolation = (S0/4)*(1 - alpha)\n",
    "heat_flux_profile = utils.vertical_heat_flux_profile(N, total_vertical_heat_flux)\n",
    "forcings = utils.forcings_vector(N, insolation, heat_flux_profile)\n",
    "#print('\\nForcings Vector: ')\n",
    "#print(forcings)\n",
    "\n",
    "# Now find the temperature vector using the emissivity matrix and the forcings\n",
    "temperature_vector = utils.temperature(total_emissivity_matrix, forcings)\n",
    "\n",
    "plt.plot(temperature_vector, range(0,N+1))\n",
    "plt.xlabel('Temperature $\\degree$K')\n",
    "plt.ylabel('Layer number (n)')\n"
   ]
  },
  {
   "cell_type": "code",
   "execution_count": null,
   "id": "american-myanmar",
   "metadata": {},
   "outputs": [],
   "source": []
  }
 ],
 "metadata": {
  "kernelspec": {
   "display_name": "Python 3",
   "language": "python",
   "name": "python3"
  },
  "language_info": {
   "codemirror_mode": {
    "name": "ipython",
    "version": 3
   },
   "file_extension": ".py",
   "mimetype": "text/x-python",
   "name": "python",
   "nbconvert_exporter": "python",
   "pygments_lexer": "ipython3",
   "version": "3.7.6"
  }
 },
 "nbformat": 4,
 "nbformat_minor": 5
}
